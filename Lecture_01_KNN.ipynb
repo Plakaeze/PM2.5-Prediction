{
  "nbformat": 4,
  "nbformat_minor": 0,
  "metadata": {
    "colab": {
      "name": "Lecture_01_KNN.ipynb",
      "version": "0.3.2",
      "provenance": [],
      "include_colab_link": true
    },
    "kernelspec": {
      "name": "python3",
      "display_name": "Python 3"
    }
  },
  "cells": [
    {
      "cell_type": "markdown",
      "metadata": {
        "id": "view-in-github",
        "colab_type": "text"
      },
      "source": [
        "<a href=\"https://colab.research.google.com/github/supachaya2535/PM2.5-Prediction/blob/master/Lecture_01_KNN.ipynb\" target=\"_parent\"><img src=\"https://colab.research.google.com/assets/colab-badge.svg\" alt=\"Open In Colab\"/></a>"
      ]
    },
    {
      "metadata": {
        "id": "mZnBq-n2YQ5g",
        "colab_type": "code",
        "colab": {}
      },
      "cell_type": "code",
      "source": [
        "import pandas as pd\n",
        "import numpy as np\n",
        "import math\n",
        "import matplotlib.pyplot as plt\n",
        "from sklearn import datasets"
      ],
      "execution_count": 0,
      "outputs": []
    },
    {
      "metadata": {
        "id": "WGDjYJ3CYM01",
        "colab_type": "code",
        "colab": {}
      },
      "cell_type": "code",
      "source": [
        "iris = datasets.load_iris()\n",
        "iris.data"
      ],
      "execution_count": 0,
      "outputs": []
    },
    {
      "metadata": {
        "id": "gIHKpvycZYB5",
        "colab_type": "code",
        "outputId": "b2a28baf-0bb3-4fe3-e332-edc0671d7bd4",
        "colab": {
          "base_uri": "https://localhost:8080/",
          "height": 84
        }
      },
      "cell_type": "code",
      "source": [
        "iris['feature_names']"
      ],
      "execution_count": 0,
      "outputs": [
        {
          "output_type": "execute_result",
          "data": {
            "text/plain": [
              "['sepal length (cm)',\n",
              " 'sepal width (cm)',\n",
              " 'petal length (cm)',\n",
              " 'petal width (cm)']"
            ]
          },
          "metadata": {
            "tags": []
          },
          "execution_count": 3
        }
      ]
    },
    {
      "metadata": {
        "id": "ptrKb3YZZwpt",
        "colab_type": "code",
        "outputId": "732f08be-9b6f-4c57-9a24-3848496e2ba5",
        "colab": {
          "base_uri": "https://localhost:8080/",
          "height": 196
        }
      },
      "cell_type": "code",
      "source": [
        "X = pd.DataFrame( iris.data , columns = iris['feature_names']  )\n",
        "Y = pd.DataFrame( iris['target'],columns = ['target'])\n",
        "X.head(5)"
      ],
      "execution_count": 0,
      "outputs": [
        {
          "output_type": "execute_result",
          "data": {
            "text/html": [
              "<div>\n",
              "<style scoped>\n",
              "    .dataframe tbody tr th:only-of-type {\n",
              "        vertical-align: middle;\n",
              "    }\n",
              "\n",
              "    .dataframe tbody tr th {\n",
              "        vertical-align: top;\n",
              "    }\n",
              "\n",
              "    .dataframe thead th {\n",
              "        text-align: right;\n",
              "    }\n",
              "</style>\n",
              "<table border=\"1\" class=\"dataframe\">\n",
              "  <thead>\n",
              "    <tr style=\"text-align: right;\">\n",
              "      <th></th>\n",
              "      <th>sepal length (cm)</th>\n",
              "      <th>sepal width (cm)</th>\n",
              "      <th>petal length (cm)</th>\n",
              "      <th>petal width (cm)</th>\n",
              "    </tr>\n",
              "  </thead>\n",
              "  <tbody>\n",
              "    <tr>\n",
              "      <th>0</th>\n",
              "      <td>5.1</td>\n",
              "      <td>3.5</td>\n",
              "      <td>1.4</td>\n",
              "      <td>0.2</td>\n",
              "    </tr>\n",
              "    <tr>\n",
              "      <th>1</th>\n",
              "      <td>4.9</td>\n",
              "      <td>3.0</td>\n",
              "      <td>1.4</td>\n",
              "      <td>0.2</td>\n",
              "    </tr>\n",
              "    <tr>\n",
              "      <th>2</th>\n",
              "      <td>4.7</td>\n",
              "      <td>3.2</td>\n",
              "      <td>1.3</td>\n",
              "      <td>0.2</td>\n",
              "    </tr>\n",
              "    <tr>\n",
              "      <th>3</th>\n",
              "      <td>4.6</td>\n",
              "      <td>3.1</td>\n",
              "      <td>1.5</td>\n",
              "      <td>0.2</td>\n",
              "    </tr>\n",
              "    <tr>\n",
              "      <th>4</th>\n",
              "      <td>5.0</td>\n",
              "      <td>3.6</td>\n",
              "      <td>1.4</td>\n",
              "      <td>0.2</td>\n",
              "    </tr>\n",
              "  </tbody>\n",
              "</table>\n",
              "</div>"
            ],
            "text/plain": [
              "   sepal length (cm)  sepal width (cm)  petal length (cm)  petal width (cm)\n",
              "0                5.1               3.5                1.4               0.2\n",
              "1                4.9               3.0                1.4               0.2\n",
              "2                4.7               3.2                1.3               0.2\n",
              "3                4.6               3.1                1.5               0.2\n",
              "4                5.0               3.6                1.4               0.2"
            ]
          },
          "metadata": {
            "tags": []
          },
          "execution_count": 11
        }
      ]
    },
    {
      "metadata": {
        "id": "dGqp9u3uc27O",
        "colab_type": "code",
        "colab": {}
      },
      "cell_type": "code",
      "source": [
        "from sklearn.model_selection import train_test_split\n",
        "X_train,X_test,Y_train,Y_test = train_test_split(X,Y,test_size = 0.3,random_state = 42)"
      ],
      "execution_count": 0,
      "outputs": []
    },
    {
      "metadata": {
        "id": "aTsbMycJdzdw",
        "colab_type": "code",
        "outputId": "2f613199-c135-490d-ff43-3bff9c7d7764",
        "colab": {
          "base_uri": "https://localhost:8080/",
          "height": 196
        }
      },
      "cell_type": "code",
      "source": [
        "X_train.head(5)"
      ],
      "execution_count": 0,
      "outputs": [
        {
          "output_type": "execute_result",
          "data": {
            "text/html": [
              "<div>\n",
              "<style scoped>\n",
              "    .dataframe tbody tr th:only-of-type {\n",
              "        vertical-align: middle;\n",
              "    }\n",
              "\n",
              "    .dataframe tbody tr th {\n",
              "        vertical-align: top;\n",
              "    }\n",
              "\n",
              "    .dataframe thead th {\n",
              "        text-align: right;\n",
              "    }\n",
              "</style>\n",
              "<table border=\"1\" class=\"dataframe\">\n",
              "  <thead>\n",
              "    <tr style=\"text-align: right;\">\n",
              "      <th></th>\n",
              "      <th>sepal length (cm)</th>\n",
              "      <th>sepal width (cm)</th>\n",
              "      <th>petal length (cm)</th>\n",
              "      <th>petal width (cm)</th>\n",
              "    </tr>\n",
              "  </thead>\n",
              "  <tbody>\n",
              "    <tr>\n",
              "      <th>81</th>\n",
              "      <td>5.5</td>\n",
              "      <td>2.4</td>\n",
              "      <td>3.7</td>\n",
              "      <td>1.0</td>\n",
              "    </tr>\n",
              "    <tr>\n",
              "      <th>133</th>\n",
              "      <td>6.3</td>\n",
              "      <td>2.8</td>\n",
              "      <td>5.1</td>\n",
              "      <td>1.5</td>\n",
              "    </tr>\n",
              "    <tr>\n",
              "      <th>137</th>\n",
              "      <td>6.4</td>\n",
              "      <td>3.1</td>\n",
              "      <td>5.5</td>\n",
              "      <td>1.8</td>\n",
              "    </tr>\n",
              "    <tr>\n",
              "      <th>75</th>\n",
              "      <td>6.6</td>\n",
              "      <td>3.0</td>\n",
              "      <td>4.4</td>\n",
              "      <td>1.4</td>\n",
              "    </tr>\n",
              "    <tr>\n",
              "      <th>109</th>\n",
              "      <td>7.2</td>\n",
              "      <td>3.6</td>\n",
              "      <td>6.1</td>\n",
              "      <td>2.5</td>\n",
              "    </tr>\n",
              "  </tbody>\n",
              "</table>\n",
              "</div>"
            ],
            "text/plain": [
              "     sepal length (cm)  sepal width (cm)  petal length (cm)  petal width (cm)\n",
              "81                 5.5               2.4                3.7               1.0\n",
              "133                6.3               2.8                5.1               1.5\n",
              "137                6.4               3.1                5.5               1.8\n",
              "75                 6.6               3.0                4.4               1.4\n",
              "109                7.2               3.6                6.1               2.5"
            ]
          },
          "metadata": {
            "tags": []
          },
          "execution_count": 13
        }
      ]
    },
    {
      "metadata": {
        "id": "qTfwvRLieS7U",
        "colab_type": "code",
        "colab": {}
      },
      "cell_type": "code",
      "source": [
        "from sklearn.metrics.pairwise import euclidean_distances\n",
        "\n",
        "x0 = X_test.iloc[1][:]"
      ],
      "execution_count": 0,
      "outputs": []
    },
    {
      "metadata": {
        "id": "O8yNB6_WgHCc",
        "colab_type": "code",
        "colab": {}
      },
      "cell_type": "code",
      "source": [
        "X_test.head(5)\n",
        "dist = euclidean_distances(X_train, [x0])\n",
        "print('index = ',dist.argmax())\n",
        "print('max dist = ', dist.max())\n",
        "\n",
        "print(dist)"
      ],
      "execution_count": 0,
      "outputs": []
    },
    {
      "metadata": {
        "id": "qlRLQFAJhSc5",
        "colab_type": "code",
        "outputId": "9d743393-c960-412f-9e40-5fd02fb94094",
        "colab": {
          "base_uri": "https://localhost:8080/",
          "height": 1522
        }
      },
      "cell_type": "code",
      "source": [
        "k=3\n",
        "for i in range(0,X_test.shape[0]):\n",
        "  Class_Y = Y_train.copy()\n",
        "  x0 = X_test.iloc[i][:]\n",
        "  Class_Y['dist'] = euclidean_distances(X_train, [x0]).copy()\n",
        "  Class_Y.sort_values(by='dist', ascending=True,  inplace=True)\n",
        "  vote = np.array([0,0,0])\n",
        "  \n",
        "  for j in range(k):\n",
        "    vote[Class_Y['target'].iloc[j]] = vote[Class_Y['target'].iloc[j]]+1\n",
        "  print(vote)\n",
        "  idx_min = vote.argmax()\n",
        "  \n",
        "  print('#',i,'Desired:',Y_test['target'].iloc[i],'-->Predict :', idx_min)"
      ],
      "execution_count": 0,
      "outputs": [
        {
          "output_type": "stream",
          "text": [
            "[0 3 0]\n",
            "# 0 Desired: 1 -->Predict : 1\n",
            "[3 0 0]\n",
            "# 1 Desired: 0 -->Predict : 0\n",
            "[0 0 3]\n",
            "# 2 Desired: 2 -->Predict : 2\n",
            "[0 3 0]\n",
            "# 3 Desired: 1 -->Predict : 1\n",
            "[0 3 0]\n",
            "# 4 Desired: 1 -->Predict : 1\n",
            "[3 0 0]\n",
            "# 5 Desired: 0 -->Predict : 0\n",
            "[0 3 0]\n",
            "# 6 Desired: 1 -->Predict : 1\n",
            "[0 0 3]\n",
            "# 7 Desired: 2 -->Predict : 2\n",
            "[0 2 1]\n",
            "# 8 Desired: 1 -->Predict : 1\n",
            "[0 3 0]\n",
            "# 9 Desired: 1 -->Predict : 1\n",
            "[0 1 2]\n",
            "# 10 Desired: 2 -->Predict : 2\n",
            "[3 0 0]\n",
            "# 11 Desired: 0 -->Predict : 0\n",
            "[3 0 0]\n",
            "# 12 Desired: 0 -->Predict : 0\n",
            "[3 0 0]\n",
            "# 13 Desired: 0 -->Predict : 0\n",
            "[3 0 0]\n",
            "# 14 Desired: 0 -->Predict : 0\n",
            "[0 2 1]\n",
            "# 15 Desired: 1 -->Predict : 1\n",
            "[0 0 3]\n",
            "# 16 Desired: 2 -->Predict : 2\n",
            "[0 3 0]\n",
            "# 17 Desired: 1 -->Predict : 1\n",
            "[0 3 0]\n",
            "# 18 Desired: 1 -->Predict : 1\n",
            "[0 0 3]\n",
            "# 19 Desired: 2 -->Predict : 2\n",
            "[3 0 0]\n",
            "# 20 Desired: 0 -->Predict : 0\n",
            "[0 0 3]\n",
            "# 21 Desired: 2 -->Predict : 2\n",
            "[3 0 0]\n",
            "# 22 Desired: 0 -->Predict : 0\n",
            "[0 0 3]\n",
            "# 23 Desired: 2 -->Predict : 2\n",
            "[0 0 3]\n",
            "# 24 Desired: 2 -->Predict : 2\n",
            "[0 0 3]\n",
            "# 25 Desired: 2 -->Predict : 2\n",
            "[0 0 3]\n",
            "# 26 Desired: 2 -->Predict : 2\n",
            "[0 0 3]\n",
            "# 27 Desired: 2 -->Predict : 2\n",
            "[3 0 0]\n",
            "# 28 Desired: 0 -->Predict : 0\n",
            "[3 0 0]\n",
            "# 29 Desired: 0 -->Predict : 0\n",
            "[3 0 0]\n",
            "# 30 Desired: 0 -->Predict : 0\n",
            "[3 0 0]\n",
            "# 31 Desired: 0 -->Predict : 0\n",
            "[0 3 0]\n",
            "# 32 Desired: 1 -->Predict : 1\n",
            "[3 0 0]\n",
            "# 33 Desired: 0 -->Predict : 0\n",
            "[3 0 0]\n",
            "# 34 Desired: 0 -->Predict : 0\n",
            "[0 0 3]\n",
            "# 35 Desired: 2 -->Predict : 2\n",
            "[0 3 0]\n",
            "# 36 Desired: 1 -->Predict : 1\n",
            "[3 0 0]\n",
            "# 37 Desired: 0 -->Predict : 0\n",
            "[3 0 0]\n",
            "# 38 Desired: 0 -->Predict : 0\n",
            "[3 0 0]\n",
            "# 39 Desired: 0 -->Predict : 0\n",
            "[0 0 3]\n",
            "# 40 Desired: 2 -->Predict : 2\n",
            "[0 3 0]\n",
            "# 41 Desired: 1 -->Predict : 1\n",
            "[0 3 0]\n",
            "# 42 Desired: 1 -->Predict : 1\n",
            "[3 0 0]\n",
            "# 43 Desired: 0 -->Predict : 0\n",
            "[3 0 0]\n",
            "# 44 Desired: 0 -->Predict : 0\n"
          ],
          "name": "stdout"
        }
      ]
    }
  ]
}